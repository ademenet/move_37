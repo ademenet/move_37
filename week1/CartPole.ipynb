{
 "cells": [
  {
   "cell_type": "markdown",
   "metadata": {},
   "source": [
    "# Cart pole"
   ]
  },
  {
   "cell_type": "code",
   "execution_count": null,
   "metadata": {},
   "outputs": [],
   "source": [
    "import gym\n",
    "import numpy as np\n",
    "import tensorflow as tf\n",
    "import matplotlib.pyplot as plt\n",
    "%matplotlib inline\n",
    "\n",
    "env = gym.make('CartPole-v0')"
   ]
  },
  {
   "cell_type": "markdown",
   "metadata": {},
   "source": [
    "The toy example from [gym](https://gym.openai.com/docs/#installation):"
   ]
  },
  {
   "cell_type": "code",
   "execution_count": null,
   "metadata": {},
   "outputs": [],
   "source": [
    "for i_episode in range(20):\n",
    "    observation = env.reset()\n",
    "    for t in range(100):\n",
    "        # To display the environment\n",
    "        env.render()\n",
    "        print(observation)\n",
    "        action = env.action_space.sample()\n",
    "        observation, reward, done, info = env.step(action)\n",
    "        if done:\n",
    "            print(f\"Episode finished after {t+1} timesteps\")\n",
    "            break"
   ]
  },
  {
   "cell_type": "markdown",
   "metadata": {},
   "source": [
    "The examples from [kvfrans.com](http://kvfrans.com/simple-algoritms-for-solving-cartpole/):"
   ]
  },
  {
   "cell_type": "code",
   "execution_count": null,
   "metadata": {},
   "outputs": [],
   "source": [
    "def run_episode(env, parameters):\n",
    "    observation = env.reset()\n",
    "    totalreward = 0\n",
    "    for _ in range(200):\n",
    "        action = 0 if np.matmul(parameters, observation) < 0 else 1\n",
    "        observation, reward, done, info = env.step(action)\n",
    "        totalreward += reward\n",
    "        if done:\n",
    "            break\n",
    "    return totalreward"
   ]
  },
  {
   "cell_type": "markdown",
   "metadata": {},
   "source": [
    "## Random search\n",
    "\n",
    "We are going to run several tests with different weights initalization and pick up the ones with the highest total reward."
   ]
  },
  {
   "cell_type": "code",
   "execution_count": null,
   "metadata": {},
   "outputs": [],
   "source": [
    "bestparams = None\n",
    "bestreward = 0\n",
    "for i in range(10000):\n",
    "    # Initialize a vector of random weights for each observations (4 for CartPole)\n",
    "    parameters = np.random.rand(4) * 2 - 1\n",
    "    reward = run_episode(env, parameters)\n",
    "    if reward > bestreward:\n",
    "        bestreward = reward\n",
    "        bestparams = parameters\n",
    "        if reward == 200:\n",
    "            print(f\"Stopped at iteration {i}\")\n",
    "            break\n",
    "print(f\"Best reward: {bestreward} with best parameters: {bestparams}\")"
   ]
  },
  {
   "cell_type": "markdown",
   "metadata": {},
   "source": [
    "## Hill climbing\n",
    "\n",
    "This technique use a trick to avoid testing random weights all the time. Here you intialize randomly the weights then add some noise to the (best) weights. It improves all the time but it could get stucked finding nothing."
   ]
  },
  {
   "cell_type": "code",
   "execution_count": null,
   "metadata": {},
   "outputs": [],
   "source": [
    "noise_scaling = 0.1\n",
    "parameters = np.random.rand(4) * 2 - 1\n",
    "bestreward = 0\n",
    "for i in range(10000):\n",
    "    newparams = parameters + (np.random.rand(4) * 2 - 1) * noise_scaling\n",
    "    reward = 0\n",
    "    reward = run_episode(env, newparams)\n",
    "    if reward > bestreward:\n",
    "        bestreward = reward\n",
    "        parameters = newparams\n",
    "        if reward == 200:\n",
    "            print(f\"Stopped at iteration {i}\")\n",
    "            break\n",
    "print(f\"Best reward: {bestreward} with best parameters: {parameters}\")"
   ]
  }
 ],
 "metadata": {
  "kernelspec": {
   "display_name": "Python 3",
   "language": "python",
   "name": "python3"
  },
  "language_info": {
   "codemirror_mode": {
    "name": "ipython",
    "version": 3
   },
   "file_extension": ".py",
   "mimetype": "text/x-python",
   "name": "python",
   "nbconvert_exporter": "python",
   "pygments_lexer": "ipython3",
   "version": "3.6.5"
  }
 },
 "nbformat": 4,
 "nbformat_minor": 2
}
