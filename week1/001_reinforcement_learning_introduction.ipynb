{
 "cells": [
  {
   "cell_type": "markdown",
   "metadata": {},
   "source": [
    "# Reinforcement learning: an introduction\n",
    "\n",
    "Welcome into your **reinforcement learning** (RL) journey! Along this course we hope you will learn, practice and acquire a bunch of RL algorithms so as you can apply them into real world challenges.\n",
    "\n",
    "This week is going to be a introduction of some really important concepts. It may look difficult on the first sight but it will become clearer as you go further into the subject. So, don't worry, breath, and dive into it with us!"
   ]
  },
  {
   "cell_type": "markdown",
   "metadata": {},
   "source": [
    "## Reinforcement Learning\n",
    "\n",
    "So what is RL? The essential difference of RL compared to other type of learning is that RL basically map how to act in a given environment so as to **maximize a reward**. The **agent** will learn by trial and error. As Josh Greaves explain it really well in [[1]](#ref1), the main difference between RL and supervised learning is the reward which is **instructive** or **evaluative** respectively.\n",
    "\n",
    "Supervised learning should be seen as a guided process. We know exactly what the output should be and you evaluate your model answer to the expected output, then you rectify the \"shot\" and try to get closer and closer to the expectations. RL is more about evaluating how well you are doing something. From there, you will try to maximize the reward (how well) you are doing a task.\n",
    "\n",
    "Example???\n",
    "\n",
    "In a more formal way RL "
   ]
  },
  {
   "cell_type": "markdown",
   "metadata": {},
   "source": [
    "## Markov Decision Process\n",
    "\n",
    "The Markov Decision Process is a mathematical framework "
   ]
  },
  {
   "cell_type": "markdown",
   "metadata": {},
   "source": [
    "## Bellman equations\n",
    "\n"
   ]
  },
  {
   "cell_type": "markdown",
   "metadata": {},
   "source": [
    "## Resources\n",
    "\n",
    "<a id=\"ref1\"></a>[1] [Everything You Need to Know to Get Started in Reinforcement Learning](https://joshgreaves.com/reinforcement-learning/introduction-to-reinforcement-learning/)\n",
    "\n",
    "<a id=\"ref2\"></a>[2] [Understanding RL: The Bellman Equations](https://joshgreaves.com/reinforcement-learning/understanding-rl-the-bellman-equations/)"
   ]
  }
 ],
 "metadata": {
  "kernelspec": {
   "display_name": "Python 3",
   "language": "python",
   "name": "python3"
  },
  "language_info": {
   "codemirror_mode": {
    "name": "ipython",
    "version": 3
   },
   "file_extension": ".py",
   "mimetype": "text/x-python",
   "name": "python",
   "nbconvert_exporter": "python",
   "pygments_lexer": "ipython3",
   "version": "3.6.5"
  }
 },
 "nbformat": 4,
 "nbformat_minor": 2
}
