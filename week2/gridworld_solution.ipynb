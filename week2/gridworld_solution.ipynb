{
 "cells": [
  {
   "cell_type": "markdown",
   "metadata": {},
   "source": [
    "# Grid World\n",
    "\n",
    "## Goal\n",
    "\n",
    "In this part we are going to use **dynamic programming** in order to solve a grid world environment. In this assignment you have to implement by yourself **value iteration** and **policy iteration** in a OpenAI Gym environment: the [FrozenLake](https://gym.openai.com/envs/FrozenLake-v0/).\n",
    "\n",
    "It is described as it:\n",
    "> The agent controls the movement of a character in a grid world. Some tiles of the grid are walkable, and others lead to the agent falling into the water. Additionally, the movement direction of the agent is uncertain and only partially depends on the chosen direction. The agent is rewarded for finding a walkable path to a goal tile.\n",
    "\n",
    "If you have some difficulties to use OpenAI Gym, please refer to the [week1 notebook]().\n",
    "\n",
    "We ask you first to implement the algorithms and then dig a bit into the mathematical part. We will guide you through the theory in order you to be able to understand what you are doing. We provide some resources at the end of the notebook so as to help you during the process. Feel free to do your own research. Cross-referencing sources and reading code will help you to better understand the subject."
   ]
  },
  {
   "cell_type": "code",
   "execution_count": 1,
   "metadata": {},
   "outputs": [],
   "source": [
    "import gym\n",
    "import time\n",
    "import pprint\n",
    "import numpy as np\n",
    "import week2_utils\n",
    "import matplotlib.pyplot as plt"
   ]
  },
  {
   "cell_type": "markdown",
   "metadata": {},
   "source": [
    "## Introduction\n",
    "\n",
    "Value iteration and policy iteration are both based on **Bellman equation**. We saw in the [previous chapter]() that thanks to this equation and dynamic programming we are able to solve **Markov Decision Process** (MDP). These two technics are quite close: we aim to **calculate the optimal value**.\n",
    "\n",
    "In the next cell we provide you `pp` in order to pretty print dictionnaries, arrays and so on. We start the environment `FrozenLake-v0`."
   ]
  },
  {
   "cell_type": "code",
   "execution_count": 2,
   "metadata": {},
   "outputs": [],
   "source": [
    "# You can use pp.pprint() to pretty print anything for debug\n",
    "pp = pprint.PrettyPrinter(indent=2)\n",
    "# Load the environment\n",
    "env = gym.make('FrozenLake-v0')"
   ]
  },
  {
   "cell_type": "markdown",
   "metadata": {},
   "source": [
    "We can visualize what it looks:"
   ]
  },
  {
   "cell_type": "code",
   "execution_count": 3,
   "metadata": {},
   "outputs": [
    {
     "data": {
      "image/png": "[encoded data removed]",
      "text/plain": [
       "<Figure size 432x288 with 1 Axes>"
      ]
     },
     "metadata": {},
     "output_type": "display_data"
    }
   ],
   "source": [
    "# You can also use env.render()\n",
    "week2_utils.env2img(env, 'start_pos')"
   ]
  },
  {
   "cell_type": "markdown",
   "metadata": {},
   "source": [
    "## Value iteration\n",
    "\n",
    "In value iteration you compute the optimal value for all states and then you find the optimal policy associated to it. Think about it two seconds. Ok?\n",
    "\n",
    "As we are using OpenAI Gym environment (`env`), there are some useful functions we are going to use:\n",
    "- `env.env.P`: represents the transition probabilities of the environment.\n",
    "- `env.env.P[s][a]`: is a list of transition tuples (prob, next_state, reward, done).\n",
    "- `env.env.nS`: is a number of states in the environment.\n",
    "- `env.env.nA`: is a number of actions in the environment.\n",
    "\n",
    "Do not hesitate to print those values in order to understand them."
   ]
  },
  {
   "cell_type": "markdown",
   "metadata": {},
   "source": [
    "Good to know:\n",
    "```\n",
    "LEFT = 0\n",
    "DOWN = 1\n",
    "RIGHT = 2\n",
    "UP = 3\n",
    "```"
   ]
  },
  {
   "cell_type": "markdown",
   "metadata": {},
   "source": [
    "Value iteration assigne la valeur d'une action à un state en regardant le reward d'une action sur l'état suivant. On prend le max des **actions**."
   ]
  },
  {
   "cell_type": "code",
   "execution_count": 4,
   "metadata": {},
   "outputs": [],
   "source": [
    "def get_expected_values(env, s, V, discount_factor):\n",
    "    A = np.zeros(env.env.nA)\n",
    "    for a in range(env.env.nA):\n",
    "        A[a] = np.sum(prob * (reward + discount_factor * V[next_state]) for prob, next_state, reward, _ in env.env.P[s][a])\n",
    "    return A\n",
    "\n",
    "def value_iteration(env, theta=1e-20, discount_factor=0.99):\n",
    "    V = np.zeros(env.env.nS)\n",
    "    while True:\n",
    "        delta = 0\n",
    "        for s in range(env.env.nS):\n",
    "            temp = V.copy()\n",
    "            V[s] = np.max(get_expected_values(env, s, V, discount_factor))\n",
    "            delta = max(delta, np.abs(temp[s] - V[s]))\n",
    "        if delta < theta:\n",
    "            print(f\"Value function converged.\")\n",
    "            break\n",
    "    return V"
   ]
  },
  {
   "cell_type": "code",
   "execution_count": 5,
   "metadata": {},
   "outputs": [
    {
     "name": "stdout",
     "output_type": "stream",
     "text": [
      "Value function converged.\n"
     ]
    },
    {
     "data": {
      "image/png": "[encoded data removed]",
      "text/plain": [
       "<Figure size 432x288 with 1 Axes>"
      ]
     },
     "metadata": {},
     "output_type": "display_data"
    }
   ],
   "source": [
    "V = value_iteration(env)\n",
    "week2_utils.plotV(V, env)"
   ]
  },
  {
   "cell_type": "code",
   "execution_count": 6,
   "metadata": {},
   "outputs": [],
   "source": [
    "def get_policy_from_values(V, discount_factor=0.99):\n",
    "    pi = np.zeros(env.env.nS)\n",
    "    for s in range(env.env.nS):\n",
    "        pi[s] = np.argmax(get_expected_values(env, s, V, discount_factor))\n",
    "    return pi"
   ]
  },
  {
   "cell_type": "code",
   "execution_count": 7,
   "metadata": {},
   "outputs": [
    {
     "data": {
      "image/png": "[encoded data removed]",
      "text/plain": [
       "<Figure size 432x288 with 1 Axes>"
      ]
     },
     "metadata": {},
     "output_type": "display_data"
    }
   ],
   "source": [
    "pi = get_policy_from_values(V)\n",
    "week2_utils.plotPath(pi, env)"
   ]
  },
  {
   "cell_type": "markdown",
   "metadata": {},
   "source": [
    "## Policy iteration\n",
    "\n",
    "Policy iteration requires two steps: policy evaluation and policy improvement.\n",
    "\n",
    "In policy evaluation we iterate over all states, we compute Bellman equation and keep the max value "
   ]
  },
  {
   "cell_type": "code",
   "execution_count": 8,
   "metadata": {},
   "outputs": [],
   "source": [
    "def policy_evaluation(env, pi, V, theta, discount_factor):\n",
    "    while True:\n",
    "        delta = 0\n",
    "        for s in range(env.env.nS):\n",
    "            temp = V.copy()\n",
    "            V[s] = np.sum(prob * (reward + discount_factor * V[next_state]) for prob, next_state, reward, _ in env.env.P[s][pi[s]])\n",
    "            delta = max(delta, np.abs(temp[s] - V[s]))\n",
    "        if delta < theta:\n",
    "            break\n",
    "    return V\n",
    "        \n",
    "def policy_iteration(env, theta=1e-20, discount_factor=0.99):\n",
    "    pi = np.zeros(env.env.nS, dtype=np.int)\n",
    "    V = np.zeros(env.env.nS)\n",
    "    policy_stable = True\n",
    "    while True:\n",
    "        old_pi = pi.copy()\n",
    "        # Evaluate wrt to the policy\n",
    "        V = policy_evaluation(env, pi, V, theta, discount_factor)\n",
    "        pi = np.array([np.argmax(get_expected_values(env, s, V, discount_factor)) for s in range(env.env.nS)])\n",
    "        if np.array_equal(old_pi, pi):\n",
    "            return pi, V"
   ]
  },
  {
   "cell_type": "code",
   "execution_count": 9,
   "metadata": {
    "scrolled": true
   },
   "outputs": [],
   "source": [
    "pi2, V2 = policy_iteration(env)"
   ]
  },
  {
   "cell_type": "code",
   "execution_count": 10,
   "metadata": {},
   "outputs": [
    {
     "data": {
      "image/png": "[encoded data removed]",
      "text/plain": [
       "<Figure size 432x288 with 1 Axes>"
      ]
     },
     "metadata": {},
     "output_type": "display_data"
    }
   ],
   "source": [
    "week2_utils.plotV(V2, env)"
   ]
  },
  {
   "cell_type": "code",
   "execution_count": 11,
   "metadata": {},
   "outputs": [
    {
     "data": {
      "image/png": "[encoded data removed]",
      "text/plain": [
       "<Figure size 432x288 with 1 Axes>"
      ]
     },
     "metadata": {},
     "output_type": "display_data"
    }
   ],
   "source": [
    "week2_utils.plotPath(pi2, env)"
   ]
  },
  {
   "cell_type": "markdown",
   "metadata": {},
   "source": [
    "## Conclusion\n",
    "\n",
    "Value iteration can be seen as a specific policy iteration.\n",
    "\n",
    "\n",
    "- When to use Value-iteration and Policy-iteration?\n",
    "- Real life examples\n",
    "\n",
    "## Resources\n",
    "\n",
    "- [Quora: How is policy iteration different from value iteration?](https://www.quora.com/How-is-policy-iteration-different-from-value-iteration)\n",
    "- [Stackoverflow: What is the difference between value iteration and policy iteration?](https://stackoverflow.com/questions/37370015/what-is-the-difference-between-value-iteration-and-policy-iteration)\n",
    "- [UC Berkeley CS188 Intro to AI - MDP II - slides](http://ai.berkeley.edu/slides/Lecture%209%20--%20MDPs%20II/SP14%20CS188%20Lecture%209%20--%20MDPs%20II.pptx)"
   ]
  }
 ],
 "metadata": {
  "kernelspec": {
   "display_name": "Python 3",
   "language": "python",
   "name": "python3"
  },
  "language_info": {
   "codemirror_mode": {
    "name": "ipython",
    "version": 3
   },
   "file_extension": ".py",
   "mimetype": "text/x-python",
   "name": "python",
   "nbconvert_exporter": "python",
   "pygments_lexer": "ipython3",
   "version": "3.6.5"
  }
 },
 "nbformat": 4,
 "nbformat_minor": 2
}
