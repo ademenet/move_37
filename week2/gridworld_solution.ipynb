{
 "cells": [
  {
   "cell_type": "markdown",
   "metadata": {},
   "source": [
    "# Grid World\n",
    "\n",
    "## Goal\n",
    "\n",
    "In this part we are going to use **dynamic programming** in order to solve a grid world environment. In this assignment you have to implement by yourself **value iteration** and **policy iteration** in a OpenAI Gym environment: the [FrozenLake](https://gym.openai.com/envs/FrozenLake-v0/).\n",
    "\n",
    "It is described as it:\n",
    "> The agent controls the movement of a character in a grid world. Some tiles of the grid are walkable, and others lead to the agent falling into the water. Additionally, the movement direction of the agent is uncertain and only partially depends on the chosen direction. The agent is rewarded for finding a walkable path to a goal tile.\n",
    "\n",
    "If you have some difficulties to use OpenAI Gym, please refer to the [week1 notebook]().\n",
    "\n",
    "We ask you first to implement the algorithms and then dig a bit into the mathematical part. We will guide you through the theory in order you to be able to understand what you are doing. We provide some resources at the end of the notebook so as to help you during the process. Feel free to do your own research. Cross-referencing sources and reading code will help you to better understand the subject."
   ]
  },
  {
   "cell_type": "code",
   "execution_count": 50,
   "metadata": {},
   "outputs": [],
   "source": [
    "import gym\n",
    "import time\n",
    "import pprint\n",
    "import numpy as np\n",
    "import week2_utils\n",
    "import matplotlib.pyplot as plt"
   ]
  },
  {
   "cell_type": "markdown",
   "metadata": {},
   "source": [
    "## Introduction\n",
    "\n",
    "Value iteration and policy iteration are both based on **Bellman equation**. We saw in the [previous chapter]() that thanks to this equation and dynamic programming we are able to solve **Markov Decision Process** (MDP). These two technics are quite close: we aim to **calculate the optimal value**.\n",
    "\n",
    "In the next cell we provide you `pp` in order to pretty print dictionnaries, arrays and so on. We start the environment `FrozenLake-v0`."
   ]
  },
  {
   "cell_type": "code",
   "execution_count": 2,
   "metadata": {},
   "outputs": [],
   "source": [
    "# You can use pp.pprint() to pretty print anything for debug\n",
    "pp = pprint.PrettyPrinter(indent=2)\n",
    "# Load the environment\n",
    "env = gym.make('FrozenLake-v0')"
   ]
  },
  {
   "cell_type": "markdown",
   "metadata": {},
   "source": [
    "We can visualize what it looks:"
   ]
  },
  {
   "cell_type": "code",
   "execution_count": 6,
   "metadata": {},
   "outputs": [
    {
     "data": {
      "image/png": "[encoded data removed]",
      "text/plain": [
       "<Figure size 432x288 with 1 Axes>"
      ]
     },
     "metadata": {},
     "output_type": "display_data"
    }
   ],
   "source": [
    "# You can also use env.render()\n",
    "week2_utils.env2img(env, 'start_pos')"
   ]
  },
  {
   "cell_type": "markdown",
   "metadata": {},
   "source": [
    "## Value iteration\n",
    "\n",
    "In value iteration you compute the optimal value for all states and then you find the optimal policy associated to it. Think about it two seconds. Ok?\n",
    "\n",
    "As we are using OpenAI Gym environment (`env`), there are some useful functions we are going to use:\n",
    "- `env.env.P`: represents the transition probabilities of the environment.\n",
    "- `env.env.P[s][a]`: is a list of transition tuples (prob, next_state, reward, done).\n",
    "- `env.env.nS`: is a number of states in the environment.\n",
    "- `env.env.nA`: is a number of actions in the environment."
   ]
  },
  {
   "cell_type": "code",
   "execution_count": 59,
   "metadata": {},
   "outputs": [],
   "source": [
    "def value_iteration(env, theta=0.000001, discount_factor=0.99):\n",
    "    \"\"\"Value iteration algorithm.\n",
    "    \n",
    "    Args:\n",
    "        env (object): OpenAI Gym environment.\n",
    "        theta (float): a small positive number to stop convergence.\n",
    "        discount_factor (float): the gamma discount factor, a number between 0.0 and 1.0.\n",
    "    \n",
    "    Returns:\n",
    "        (tuple): optimal policy (array of dimension [states, actions]) and\n",
    "            optimal value function (array of dimension states).\n",
    "    \"\"\"\n",
    "    def one_step_lookahead(state, V):\n",
    "        \"\"\"\n",
    "        \"\"\"\n",
    "        A = np.zeros(env.env.nA)\n",
    "        for a in range(env.env.nA):\n",
    "            for prob, next_state, reward, done in env.env.P[state][a]:\n",
    "                A[a] += prob * (reward + discount_factor * V[next_state])\n",
    "        return A\n",
    "    \n",
    "    # Initialize arbitrarily the values, V, to zero\n",
    "    # V is the shape of the number of our states\n",
    "    V = np.zeros(env.env.nS)\n",
    "    # We repeat until delta is strictly inferior to theta (a small positive number)\n",
    "    i = 0\n",
    "    f = plt.figure(figsize = (20, 4))\n",
    "    while True:\n",
    "        # Iniatilize delta to 0 for each iterations\n",
    "        delta = 0\n",
    "        # We iterate over each states\n",
    "        if i < 4:\n",
    "            ax = f.add_subplot(1, 4, i+1)\n",
    "            ax.set_title(f'Iteration {i}')\n",
    "            week2_utils.plotV(V, env)\n",
    "        for s in range(env.env.nS):\n",
    "            A = one_step_lookahead(s, V)\n",
    "            best_action_value = np.max(A)\n",
    "            delta = max(delta, np.abs(best_action_value - V[s]))\n",
    "            V[s] = best_action_value\n",
    "\n",
    "        if delta < theta:\n",
    "            break\n",
    "        i += 1\n",
    "\n",
    "    policy = np.zeros([env.env.nS, env.env.nA])\n",
    "    for s in range(env.env.nS):\n",
    "        A = one_step_lookahead(s, V)\n",
    "        best_action = np.argmax(A)\n",
    "        policy[s, best_action] = 1.0\n",
    "    return policy, V"
   ]
  },
  {
   "cell_type": "code",
   "execution_count": 62,
   "metadata": {},
   "outputs": [
    {
     "data": {
      "image/png": "[encoded data removed]",
      "text/plain": [
       "<Figure size 1440x288 with 4 Axes>"
      ]
     },
     "metadata": {},
     "output_type": "display_data"
    }
   ],
   "source": [
    "policy, v = value_iteration(env)"
   ]
  },
  {
   "cell_type": "code",
   "execution_count": 63,
   "metadata": {},
   "outputs": [
    {
     "data": {
      "text/plain": [
       "array([[1., 0., 0., 0.],\n",
       "       [0., 0., 0., 1.],\n",
       "       [0., 0., 0., 1.],\n",
       "       [0., 0., 0., 1.],\n",
       "       [1., 0., 0., 0.],\n",
       "       [1., 0., 0., 0.],\n",
       "       [1., 0., 0., 0.],\n",
       "       [1., 0., 0., 0.],\n",
       "       [0., 0., 0., 1.],\n",
       "       [0., 1., 0., 0.],\n",
       "       [1., 0., 0., 0.],\n",
       "       [1., 0., 0., 0.],\n",
       "       [1., 0., 0., 0.],\n",
       "       [0., 0., 1., 0.],\n",
       "       [0., 1., 0., 0.],\n",
       "       [1., 0., 0., 0.]])"
      ]
     },
     "execution_count": 63,
     "metadata": {},
     "output_type": "execute_result"
    }
   ],
   "source": [
    "policy"
   ]
  },
  {
   "cell_type": "code",
   "execution_count": 37,
   "metadata": {},
   "outputs": [
    {
     "data": {
      "text/plain": [
       "array([[0, 0, 0, 0],\n",
       "       [0, 0, 0, 0],\n",
       "       [0, 0, 0, 0],\n",
       "       [0, 0, 0, 0]])"
      ]
     },
     "execution_count": 37,
     "metadata": {},
     "output_type": "execute_result"
    }
   ],
   "source": [
    "np.reshape(np.argmax(policy, -1), (4,4))"
   ]
  },
  {
   "cell_type": "code",
   "execution_count": 39,
   "metadata": {},
   "outputs": [
    {
     "name": "stdout",
     "output_type": "stream",
     "text": [
      "array([0.        , 0.        , 0.        , 0.        , 0.        ,\n",
      "       0.        , 0.        , 0.        , 0.        , 0.        ,\n",
      "       0.        , 0.        , 0.        , 0.10989005, 0.36630035,\n",
      "       0.        ])\n"
     ]
    }
   ],
   "source": [
    "pp.pprint(v)"
   ]
  },
  {
   "cell_type": "markdown",
   "metadata": {},
   "source": [
    "## Policy iteration\n",
    "\n",
    "Policy iteration requires two steps: policy evaluation and policy improvement.\n",
    "\n",
    "In policy evaluation we iterate over all states, we compute Bellman equation and keep the max value "
   ]
  },
  {
   "cell_type": "code",
   "execution_count": null,
   "metadata": {},
   "outputs": [],
   "source": []
  },
  {
   "cell_type": "markdown",
   "metadata": {},
   "source": [
    "## Conclusion\n",
    "\n",
    "Value iteration can be seen as a specific policy iteration.\n",
    "\n",
    "\n",
    "- When to use Value-iteration and Policy-iteration?\n",
    "- Real life examples\n",
    "\n",
    "## Resources\n",
    "\n",
    "- [Quora: How is policy iteration different from value iteration?](https://www.quora.com/How-is-policy-iteration-different-from-value-iteration)\n",
    "- [Stackoverflow: What is the difference between value iteration and policy iteration?](https://stackoverflow.com/questions/37370015/what-is-the-difference-between-value-iteration-and-policy-iteration)\n",
    "- [UC Berkeley CS188 Intro to AI - MDP II - slides](http://ai.berkeley.edu/slides/Lecture%209%20--%20MDPs%20II/SP14%20CS188%20Lecture%209%20--%20MDPs%20II.pptx)"
   ]
  },
  {
   "cell_type": "code",
   "execution_count": null,
   "metadata": {},
   "outputs": [],
   "source": []
  }
 ],
 "metadata": {
  "kernelspec": {
   "display_name": "Python 3",
   "language": "python",
   "name": "python3"
  },
  "language_info": {
   "codemirror_mode": {
    "name": "ipython",
    "version": 3
   },
   "file_extension": ".py",
   "mimetype": "text/x-python",
   "name": "python",
   "nbconvert_exporter": "python",
   "pygments_lexer": "ipython3",
   "version": "3.6.5"
  }
 },
 "nbformat": 4,
 "nbformat_minor": 2
}
